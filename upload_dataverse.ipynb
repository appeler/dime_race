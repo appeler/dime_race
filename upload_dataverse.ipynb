{
 "cells": [
  {
   "cell_type": "code",
   "execution_count": 1,
   "metadata": {},
   "outputs": [],
   "source": [
    "from dataverse import Connection\n",
    "import time"
   ]
  },
  {
   "cell_type": "code",
   "execution_count": 2,
   "metadata": {},
   "outputs": [],
   "source": [
    "# Dataverse API Token\n",
    "# https://dataverse.harvard.edu/dataverseuser.xhtml?selectTab=apiTokenTab\n",
    "host = 'dataverse.harvard.edu'\n",
    "token = '<TOKEN>'"
   ]
  },
  {
   "cell_type": "code",
   "execution_count": 3,
   "metadata": {},
   "outputs": [],
   "source": [
    "connection = Connection(host, token)\n",
    "dv = connection.get_dataverse('sawasdee')\n",
    "ds = dv.get_dataset_by_doi('doi:10.7910/DVN/M5K7VR')\n",
    "ds"
   ]
  },
  {
   "cell_type": "code",
   "execution_count": 7,
   "metadata": {},
   "outputs": [
    {
     "name": "stdout",
     "output_type": "stream",
     "text": [
      "/opt/data/dime-race/1980_dime_census_ln_2000_results.csv.gz\n",
      "/opt/data/dime-race/1980_dime_census_ln_2010_results.csv.gz\n",
      "/opt/data/dime-race/1980_dime_pred_fl_reg_ln_results.csv.gz\n",
      "/opt/data/dime-race/1980_dime_pred_fl_reg_name_results.csv.gz\n",
      "/opt/data/dime-race/1982_dime_census_ln_2000_results.csv.gz\n",
      "/opt/data/dime-race/1982_dime_census_ln_2010_results.csv.gz\n",
      "/opt/data/dime-race/1982_dime_pred_fl_reg_ln_results.csv.gz\n",
      "/opt/data/dime-race/1982_dime_pred_fl_reg_name_results.csv.gz\n",
      "/opt/data/dime-race/1984_dime_census_ln_2000_results.csv.gz\n",
      "/opt/data/dime-race/1984_dime_census_ln_2010_results.csv.gz\n",
      "/opt/data/dime-race/1984_dime_pred_fl_reg_ln_results.csv.gz\n",
      "/opt/data/dime-race/1984_dime_pred_fl_reg_name_results.csv.gz\n",
      "HTTPSConnectionPool(host='dataverse.harvard.edu', port=443): Read timed out. (read timeout=None)\n",
      "/opt/data/dime-race/1986_dime_census_ln_2000_results.csv.gz\n",
      "/opt/data/dime-race/1986_dime_census_ln_2010_results.csv.gz\n",
      "('Connection aborted.', TimeoutError(110, 'Connection timed out'))\n",
      "/opt/data/dime-race/1986_dime_pred_fl_reg_ln_results.csv.gz\n",
      "/opt/data/dime-race/1986_dime_pred_fl_reg_name_results.csv.gz\n",
      "/opt/data/dime-race/1988_dime_census_ln_2000_results.csv.gz\n",
      "/opt/data/dime-race/1988_dime_census_ln_2010_results.csv.gz\n",
      "/opt/data/dime-race/1988_dime_pred_fl_reg_ln_results.csv.gz\n",
      "/opt/data/dime-race/1988_dime_pred_fl_reg_name_results.csv.gz\n",
      "/opt/data/dime-race/1990_dime_census_ln_2000_results.csv.gz\n",
      "/opt/data/dime-race/1990_dime_census_ln_2010_results.csv.gz\n",
      "('Connection aborted.', TimeoutError(110, 'Connection timed out'))\n",
      "/opt/data/dime-race/1990_dime_pred_fl_reg_ln_results.csv.gz\n",
      "/opt/data/dime-race/1990_dime_pred_fl_reg_name_results.csv.gz\n",
      "/opt/data/dime-race/1992_dime_census_ln_2000_results.csv.gz\n",
      "/opt/data/dime-race/1992_dime_census_ln_2010_results.csv.gz\n",
      "/opt/data/dime-race/1992_dime_pred_fl_reg_ln_results.csv.gz\n",
      "/opt/data/dime-race/1992_dime_pred_fl_reg_name_results.csv.gz\n",
      "('Connection aborted.', TimeoutError(110, 'Connection timed out'))\n",
      "/opt/data/dime-race/1994_dime_census_ln_2000_results.csv.gz\n",
      "/opt/data/dime-race/1994_dime_census_ln_2010_results.csv.gz\n",
      "/opt/data/dime-race/1994_dime_pred_fl_reg_ln_results.csv.gz\n",
      "/opt/data/dime-race/1994_dime_pred_fl_reg_name_results.csv.gz\n",
      "/opt/data/dime-race/1996_dime_census_ln_2000_results.csv.gz\n",
      "/opt/data/dime-race/1996_dime_census_ln_2010_results.csv.gz\n",
      "('Connection aborted.', TimeoutError(110, 'Connection timed out'))\n",
      "('Connection aborted.', TimeoutError(110, 'Connection timed out'))\n",
      "/opt/data/dime-race/1996_dime_pred_fl_reg_ln_results.csv.gz\n",
      "/opt/data/dime-race/1996_dime_pred_fl_reg_name_results.csv.gz\n",
      "/opt/data/dime-race/1998_dime_census_ln_2000_results.csv.gz\n",
      "/opt/data/dime-race/1998_dime_census_ln_2010_results.csv.gz\n",
      "/opt/data/dime-race/1998_dime_pred_fl_reg_ln_results.csv.gz\n",
      "/opt/data/dime-race/1998_dime_pred_fl_reg_name_results.csv.gz\n",
      "/opt/data/dime-race/2000_dime_census_ln_2000_results.csv.gz\n",
      "/opt/data/dime-race/2000_dime_census_ln_2010_results.csv.gz\n",
      "/opt/data/dime-race/2000_dime_pred_fl_reg_ln_results.csv.gz\n",
      "/opt/data/dime-race/2000_dime_pred_fl_reg_name_results.csv.gz\n",
      "/opt/data/dime-race/2002_dime_census_ln_2000_results.csv.gz\n",
      "/opt/data/dime-race/2002_dime_census_ln_2010_results.csv.gz\n",
      "/opt/data/dime-race/2002_dime_pred_fl_reg_ln_results.csv.gz\n",
      "/opt/data/dime-race/2002_dime_pred_fl_reg_name_results.csv.gz\n",
      "/opt/data/dime-race/2004_dime_census_ln_2000_results.csv.gz\n",
      "/opt/data/dime-race/2004_dime_census_ln_2010_results.csv.gz\n",
      "('Connection aborted.', TimeoutError(110, 'Connection timed out'))\n",
      "/opt/data/dime-race/2004_dime_pred_fl_reg_ln_results.csv.gz\n",
      "/opt/data/dime-race/2004_dime_pred_fl_reg_name_results.csv.gz\n",
      "('Connection aborted.', TimeoutError(110, 'Connection timed out'))\n",
      "/opt/data/dime-race/2006_dime_census_ln_2000_results.csv.gz\n",
      "/opt/data/dime-race/2006_dime_census_ln_2010_results.csv.gz\n",
      "/opt/data/dime-race/2006_dime_pred_fl_reg_ln_results.csv.gz\n",
      "/opt/data/dime-race/2006_dime_pred_fl_reg_name_results.csv.gz\n",
      "('Connection aborted.', TimeoutError(110, 'Connection timed out'))\n",
      "/opt/data/dime-race/2008_dime_census_ln_2000_results.csv.gz\n",
      "/opt/data/dime-race/2008_dime_census_ln_2010_results.csv.gz\n",
      "/opt/data/dime-race/2008_dime_pred_fl_reg_ln_results.csv.gz\n",
      "/opt/data/dime-race/2008_dime_pred_fl_reg_name_results.csv.gz\n",
      "/opt/data/dime-race/2010_dime_census_ln_2000_results.csv.gz\n",
      "/opt/data/dime-race/2010_dime_census_ln_2010_results.csv.gz\n",
      "/opt/data/dime-race/2010_dime_pred_fl_reg_name_results.csv.gz\n",
      "/opt/data/dime-race/2012_dime_census_ln_2000_results.csv.gz\n",
      "/opt/data/dime-race/2012_dime_census_ln_2010_results.csv.gz\n",
      "/opt/data/dime-race/2012_dime_pred_fl_reg_ln_results.csv.gz\n",
      "/opt/data/dime-race/2012_dime_pred_fl_reg_name_results.csv.gz\n",
      "/opt/data/dime-race/2014_dime_census_ln_2000_results.csv.gz\n",
      "/opt/data/dime-race/2014_dime_census_ln_2010_results.csv.gz\n",
      "/opt/data/dime-race/2014_dime_pred_fl_reg_ln_results.csv.gz\n",
      "/opt/data/dime-race/2014_dime_pred_fl_reg_name_results.csv.gz\n"
     ]
    }
   ],
   "source": [
    "from glob import glob\n",
    "\n",
    "for fn in sorted(glob('/opt/data/dime-race/*_results.csv.gz')):\n",
    "    print(fn)\n",
    "    while True:\n",
    "        try:\n",
    "            ds.upload_filepaths([fn])\n",
    "            time.sleep(5)\n",
    "            break\n",
    "        except Exception as e:\n",
    "            print(e)"
   ]
  },
  {
   "cell_type": "code",
   "execution_count": null,
   "metadata": {},
   "outputs": [],
   "source": []
  }
 ],
 "metadata": {
  "kernelspec": {
   "display_name": "Python 3",
   "language": "python",
   "name": "python3"
  },
  "language_info": {
   "codemirror_mode": {
    "name": "ipython",
    "version": 3
   },
   "file_extension": ".py",
   "mimetype": "text/x-python",
   "name": "python",
   "nbconvert_exporter": "python",
   "pygments_lexer": "ipython3",
   "version": "3.5.2"
  }
 },
 "nbformat": 4,
 "nbformat_minor": 2
}
